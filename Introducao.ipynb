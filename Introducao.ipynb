{
 "cells": [
  {
   "cell_type": "markdown",
   "metadata": {},
   "source": [
    "# Introdução"
   ]
  },
  {
   "cell_type": "markdown",
   "metadata": {},
   "source": [
    "Crie uma lista com números entre 1 a 100, e então imprima os números pares, mas somente se o número for divisível por 4."
   ]
  },
  {
   "cell_type": "code",
   "execution_count": 1,
   "metadata": {},
   "outputs": [
    {
     "name": "stdout",
     "output_type": "stream",
     "text": [
      "4\n",
      "8\n",
      "12\n",
      "16\n",
      "20\n",
      "24\n",
      "28\n",
      "32\n",
      "36\n",
      "40\n",
      "44\n",
      "48\n",
      "52\n",
      "56\n",
      "60\n",
      "64\n",
      "68\n",
      "72\n",
      "76\n",
      "80\n",
      "84\n",
      "88\n",
      "92\n",
      "96\n",
      "100\n"
     ]
    }
   ],
   "source": [
    "numeros = list(range(1,101))\n",
    "\n",
    "#Percorrendo a lista \n",
    "for numero in numeros:\n",
    "    if numero % 2 == 0 and numero % 4 == 0:\n",
    "        print(numero)"
   ]
  },
  {
   "cell_type": "code",
   "execution_count": 2,
   "metadata": {},
   "outputs": [
    {
     "data": {
      "text/plain": [
       "list"
      ]
     },
     "execution_count": 2,
     "metadata": {},
     "output_type": "execute_result"
    }
   ],
   "source": [
    "type(numeros)"
   ]
  },
  {
   "cell_type": "markdown",
   "metadata": {},
   "source": [
    "A função Range(), recebe dois parâmetros, o 1º é o valor inicial, e o 2º o valor final, porém ele sempre precisa ser +1, por ser um valor excçusivo, que não entra no resultado."
   ]
  },
  {
   "cell_type": "markdown",
   "metadata": {},
   "source": [
    "A função type(), ela mostra o tipo do objeto"
   ]
  },
  {
   "cell_type": "markdown",
   "metadata": {},
   "source": [
    "# List Comprehension "
   ]
  },
  {
   "cell_type": "markdown",
   "metadata": {},
   "source": [
    "A list comprehension no Python é uma expressão poderosa que permite criar listas de forma concisa e eficiente.\n",
    "Uma list comprehension é uma sintaxe compacta para criar uma nova lista com base em uma lista existente ou em uma expressão. Ela permite realizar operações complexas em uma única linha de código, tornando o código mais limpo e legível."
   ]
  },
  {
   "cell_type": "code",
   "execution_count": 3,
   "metadata": {},
   "outputs": [
    {
     "name": "stdout",
     "output_type": "stream",
     "text": [
      "[2, 4, 6, 8, 10]\n"
     ]
    }
   ],
   "source": [
    "# Criando uma nova lista com o dobro de cada número da lista original\n",
    "duplicados = [x * 2 for x in [1, 2, 3, 4, 5]]\n",
    "print(duplicados) \n"
   ]
  },
  {
   "cell_type": "markdown",
   "metadata": {},
   "source": [
    "Colocando no contexto do exemplo citado anteriormente"
   ]
  },
  {
   "cell_type": "code",
   "execution_count": 5,
   "metadata": {},
   "outputs": [
    {
     "name": "stdout",
     "output_type": "stream",
     "text": [
      "[4, 8, 12, 16, 20, 24, 28, 32, 36, 40, 44, 48, 52, 56, 60, 64, 68, 72, 76, 80, 84, 88, 92, 96, 100]\n"
     ]
    }
   ],
   "source": [
    "numeros = list(range(1,101))\n",
    "\n",
    "pares = [numero for numero in numeros if numero % 2 == 0 and numero %4 == 0]\n",
    "\n",
    "print(pares)"
   ]
  },
  {
   "cell_type": "markdown",
   "metadata": {},
   "source": [
    "# Pseudocódigo"
   ]
  },
  {
   "cell_type": "markdown",
   "metadata": {},
   "source": [
    "usado para expressar ideias e algoritmos de forma clara e compreensível, sem se preocupar com a sintaxe precisa de uma linguagem de programação. Ele é usado para planejar ou explicar um algoritmo antes de escrever o código efetivo."
   ]
  },
  {
   "cell_type": "markdown",
   "metadata": {},
   "source": [
    "1) Calcular a área de um paralelograma.\n",
    "   Um paralelograma é um quadrilatéro com lados opostos e paralelos (e portanto ângulos opostos iguais). Um quadrilátero com lados iguais é chamado de losangulo e uma paralelogramo cujos ângulos são todos retos é chamado de retângulo.\n",
    "\n"
   ]
  },
  {
   "cell_type": "markdown",
   "metadata": {},
   "source": [
    "### Algoritmo\n",
    " \n",
    "* exiba \"Bem-vindo ao Calculador de área de paralelogramo\"\n",
    "* Peça para o usuário inserir o comprimento da base\n",
    "* Armazene o comprimento da base em uma variável \n",
    "* Peça para o usuário inserir a altura \n",
    "* Armazene a altura em uma variável \n",
    "* Calcule a área do paralelograma: base * altura\n",
    "* Armazene o resultado em uma variável \n",
    "* Exiba o resultado "
   ]
  },
  {
   "cell_type": "code",
   "execution_count": 1,
   "metadata": {},
   "outputs": [
    {
     "name": "stdout",
     "output_type": "stream",
     "text": [
      "Bem-vindo ao Calculador de área de Paralelogramo\n",
      "A área do Paralelograma é de: 50.0\n"
     ]
    }
   ],
   "source": [
    "print(\"Bem-vindo ao Calculador de área de Paralelogramo\")\n",
    "\n",
    "\n",
    "base = float(input(\"Digite o comprimento da base: \"))\n",
    "\n",
    "altura = float(input(\"Digite a altura: \"))\n",
    "\n",
    "area = base * altura\n",
    "\n",
    "print(f\"A área do Paralelograma é de: {area}\")"
   ]
  },
  {
   "cell_type": "markdown",
   "metadata": {},
   "source": [
    "2) Calculadora Simples"
   ]
  },
  {
   "cell_type": "markdown",
   "metadata": {},
   "source": [
    "### Algoritmo "
   ]
  },
  {
   "cell_type": "markdown",
   "metadata": {},
   "source": [
    "* Exiba \"Bem-vindo á Calculadora\"\n",
    "* Peça para o usuário inserir o primeiro número \n",
    "* Armazene o primeiro número em uma variável \n",
    "* Peça para o usuário inserir o segundo número \n",
    "* Armaze o segundo número em uma variável\n",
    "* Peça para o usuário selecionar uma operação \n",
    "* Armazene a operação\n",
    "* Realize o cálculo\n",
    "* Exiba o resultado "
   ]
  },
  {
   "cell_type": "code",
   "execution_count": 4,
   "metadata": {},
   "outputs": [
    {
     "name": "stdout",
     "output_type": "stream",
     "text": [
      "Bem-vindo á Calculadora\n",
      "O resultado será: 4\n"
     ]
    }
   ],
   "source": [
    "print(\"Bem-vindo á Calculadora\")\n",
    "\n",
    "primeiro = int(input(\"Digite o primeiro número: \"))\n",
    "\n",
    "segundo = int(input(\"Digite o segundo número: \"))\n",
    "\n",
    "operacao = int(input(f\"\"\" Selecione uma operação:\n",
    "                     [1] - Soma\n",
    "                     [2] - Subtração\n",
    "                     [3] - Multiplicação\n",
    "                     [4] - Divisão\n",
    "                     Digite a operação que deseja realizar: \"\"\"))\n",
    "\n",
    "match operacao:\n",
    "    case 1:\n",
    "        resultado = primeiro + segundo\n",
    "    case 2:\n",
    "        resultado = primeiro - segundo\n",
    "    case 3: \n",
    "        resultado = primeiro * segundo\n",
    "    case 4:\n",
    "        resultado = primeiro/segundo\n",
    "\n",
    "print(f\"O resultado será: {resultado}\")\n",
    "\n"
   ]
  }
 ],
 "metadata": {
  "kernelspec": {
   "display_name": "Python 3",
   "language": "python",
   "name": "python3"
  },
  "language_info": {
   "codemirror_mode": {
    "name": "ipython",
    "version": 3
   },
   "file_extension": ".py",
   "mimetype": "text/x-python",
   "name": "python",
   "nbconvert_exporter": "python",
   "pygments_lexer": "ipython3",
   "version": "3.11.2"
  }
 },
 "nbformat": 4,
 "nbformat_minor": 2
}
