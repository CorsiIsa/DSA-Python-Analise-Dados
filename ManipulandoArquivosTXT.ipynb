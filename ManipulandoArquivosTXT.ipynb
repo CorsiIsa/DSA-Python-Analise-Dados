{
 "cells": [
  {
   "cell_type": "markdown",
   "metadata": {},
   "source": [
    "# Manipulando Arquivos TXT"
   ]
  },
  {
   "cell_type": "markdown",
   "metadata": {},
   "source": [
    "## Com pacote OS"
   ]
  },
  {
   "cell_type": "code",
   "execution_count": 1,
   "metadata": {},
   "outputs": [],
   "source": [
    "import os"
   ]
  },
  {
   "cell_type": "markdown",
   "metadata": {},
   "source": [
    "Primeiro vamos montar a string que queremos gravar no arquivo txt."
   ]
  },
  {
   "cell_type": "code",
   "execution_count": 2,
   "metadata": {},
   "outputs": [],
   "source": [
    "texto = \"Cientista de Dados pode ser uma excelente alternativa de carreita. \\n\"\n",
    "texto += \"Esses profissionais precisam saber como programar em Python. \\n\"\n",
    "texto += \"E, claro devem ser proficientes em Data Science.\""
   ]
  },
  {
   "cell_type": "code",
   "execution_count": 3,
   "metadata": {},
   "outputs": [
    {
     "name": "stdout",
     "output_type": "stream",
     "text": [
      "Cientista de Dados pode ser uma excelente alternativa de carreita. \n",
      "Esses profissionais precisam saber como programar em Python. \n",
      "E, claro devem ser proficientes em Data Science.\n"
     ]
    }
   ],
   "source": [
    "print(texto)"
   ]
  },
  {
   "cell_type": "markdown",
   "metadata": {},
   "source": [
    "Agora iremos abrir o arquivo e colocar nossa string dentro dele."
   ]
  },
  {
   "cell_type": "code",
   "execution_count": null,
   "metadata": {},
   "outputs": [],
   "source": [
    "arquivo = open(os.path.join('C:/Users/icors/OneDrive/Área de Trabalho/DSA-Python/arquivos/cientista.txt'), 'w')\n",
    "\n",
    "\n",
    "#Iremos percorrer nosso texto criado e colocar dentro do arquivo\n",
    "for palavra in texto.split():\n",
    "    arquivo.write(palavra + ' ')\n",
    "\n",
    "#Fechamos o arquivo no local\n",
    "arquivo.close()"
   ]
  },
  {
   "cell_type": "markdown",
   "metadata": {},
   "source": [
    "Agora iremos abrir nosso arquivo no modo leitura, para podermos observar se o conteúdo foi realmente gravado nele."
   ]
  },
  {
   "cell_type": "code",
   "execution_count": 7,
   "metadata": {},
   "outputs": [
    {
     "name": "stdout",
     "output_type": "stream",
     "text": [
      "CientistadeDadospodeserumaexcelentealternativadecarreita.EssesprofissionaisprecisamsabercomoprogramaremPython.E,clarodevemserproficientesemDataScience.\n"
     ]
    }
   ],
   "source": [
    "arquivo = open('C:/Users/icors/OneDrive/Área de Trabalho/DSA-Python/arquivos/cientista.txt', 'r')\n",
    "\n",
    "conteudo = arquivo.read()\n",
    "\n",
    "arquivo.close()\n",
    "\n",
    "print(conteudo)"
   ]
  }
 ],
 "metadata": {
  "kernelspec": {
   "display_name": "Python 3",
   "language": "python",
   "name": "python3"
  },
  "language_info": {
   "codemirror_mode": {
    "name": "ipython",
    "version": 3
   },
   "file_extension": ".py",
   "mimetype": "text/x-python",
   "name": "python",
   "nbconvert_exporter": "python",
   "pygments_lexer": "ipython3",
   "version": "3.11.2"
  }
 },
 "nbformat": 4,
 "nbformat_minor": 2
}
