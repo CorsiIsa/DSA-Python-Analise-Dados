{
 "cells": [
  {
   "cell_type": "markdown",
   "metadata": {},
   "source": [
    "# Introdução á Linguagem de programação Python"
   ]
  },
  {
   "cell_type": "markdown",
   "metadata": {},
   "source": [
    "## Operações Aritméticas\n",
    "\n",
    "* Soma (+)\n",
    "* Subtração (-)\n",
    "* Multiplicação (*)\n",
    "* Divisão (/)\n",
    "* Potência (**) ou podemos usar a função pow(numéro que queremos elevar, potência)\n",
    "* Resto da divisão (%)\n"
   ]
  },
  {
   "cell_type": "code",
   "execution_count": 6,
   "metadata": {},
   "outputs": [
    {
     "name": "stdout",
     "output_type": "stream",
     "text": [
      "125\n"
     ]
    }
   ],
   "source": [
    "print(pow(5,3))"
   ]
  },
  {
   "cell_type": "markdown",
   "metadata": {},
   "source": [
    "Quando usamos apenas uma / na divisão independente se for entre números inteiros, o resultado será sempre um float, porém se você utilizar duas / na hora da operação, o resultado se transforma em um int."
   ]
  },
  {
   "cell_type": "code",
   "execution_count": 2,
   "metadata": {},
   "outputs": [
    {
     "name": "stdout",
     "output_type": "stream",
     "text": [
      "2.0\n",
      "2\n",
      "1.0\n"
     ]
    }
   ],
   "source": [
    "print(4/2)\n",
    "\n",
    "print(4//2)\n",
    "\n",
    "print(4//3.0)"
   ]
  },
  {
   "cell_type": "markdown",
   "metadata": {},
   "source": [
    "Caso precisamos converter algum número para Hexadecimal ou Binário, podemos usar a função hex() e a bin()"
   ]
  },
  {
   "cell_type": "code",
   "execution_count": 3,
   "metadata": {},
   "outputs": [
    {
     "name": "stdout",
     "output_type": "stream",
     "text": [
      "0x18a\n",
      "0b110000110\n"
     ]
    }
   ],
   "source": [
    "print(hex(394))\n",
    "\n",
    "print(bin(390))"
   ]
  },
  {
   "cell_type": "markdown",
   "metadata": {},
   "source": [
    "No Python temos a função Abs() que pega o valor absoluto do número"
   ]
  },
  {
   "cell_type": "code",
   "execution_count": 4,
   "metadata": {},
   "outputs": [
    {
     "name": "stdout",
     "output_type": "stream",
     "text": [
      "8\n"
     ]
    }
   ],
   "source": [
    "print(abs(-8))"
   ]
  },
  {
   "cell_type": "markdown",
   "metadata": {},
   "source": [
    "E temos a função round(), que é responsável por arredondar nosso número, para quantas casas decimais quisermos "
   ]
  },
  {
   "cell_type": "code",
   "execution_count": 5,
   "metadata": {},
   "outputs": [
    {
     "name": "stdout",
     "output_type": "stream",
     "text": [
      "3.14\n"
     ]
    }
   ],
   "source": [
    "print(round(3.14151922, 2))"
   ]
  },
  {
   "cell_type": "markdown",
   "metadata": {},
   "source": [
    "## Imprimindo uma string"
   ]
  },
  {
   "cell_type": "markdown",
   "metadata": {},
   "source": [
    "para pularmos a linha podemos usar o \\n"
   ]
  },
  {
   "cell_type": "code",
   "execution_count": 1,
   "metadata": {},
   "outputs": [
    {
     "name": "stdout",
     "output_type": "stream",
     "text": [
      "Testando \n",
      "String \n",
      "em \n",
      "Python\n"
     ]
    }
   ],
   "source": [
    "print(\"Testando \\nString \\nem \\nPython\")"
   ]
  },
  {
   "cell_type": "markdown",
   "metadata": {},
   "source": [
    "## Indexando String"
   ]
  },
  {
   "cell_type": "code",
   "execution_count": 3,
   "metadata": {},
   "outputs": [
    {
     "name": "stdout",
     "output_type": "stream",
     "text": [
      "Data Science Academy\n",
      "D\n"
     ]
    }
   ],
   "source": [
    "frase = 'Data Science Academy'\n",
    "\n",
    "print(frase)\n",
    "\n",
    "print(frase[0])"
   ]
  },
  {
   "cell_type": "markdown",
   "metadata": {},
   "source": [
    "Usamos o : para buscar o intervalo entre a nossa string"
   ]
  },
  {
   "cell_type": "code",
   "execution_count": null,
   "metadata": {},
   "outputs": [
    {
     "name": "stdout",
     "output_type": "stream",
     "text": [
      "ata Science Academy\n"
     ]
    }
   ],
   "source": [
    "#Quero tudo a partir do indice 1\n",
    "print(frase[1:])"
   ]
  },
  {
   "cell_type": "markdown",
   "metadata": {},
   "source": [
    "Quando colocamos antes do : anotamos o índice inicial, porém quando colocamos depois anotamos o índice final"
   ]
  },
  {
   "cell_type": "code",
   "execution_count": 5,
   "metadata": {},
   "outputs": [
    {
     "name": "stdout",
     "output_type": "stream",
     "text": [
      "Dat\n"
     ]
    }
   ],
   "source": [
    "print(frase[:3])"
   ]
  },
  {
   "cell_type": "markdown",
   "metadata": {},
   "source": [
    "E podemos usar o -1, para trazer a frase de trás para frente "
   ]
  },
  {
   "cell_type": "code",
   "execution_count": null,
   "metadata": {},
   "outputs": [
    {
     "name": "stdout",
     "output_type": "stream",
     "text": [
      "y\n"
     ]
    }
   ],
   "source": [
    "#Trazendo o último caracter de trás para frente\n",
    "print(frase[-1])"
   ]
  },
  {
   "cell_type": "markdown",
   "metadata": {},
   "source": [
    "Podemos usar a anotação de índice para fatiar nossa string em pedaços específicos."
   ]
  },
  {
   "cell_type": "code",
   "execution_count": 7,
   "metadata": {},
   "outputs": [
    {
     "name": "stdout",
     "output_type": "stream",
     "text": [
      "Dt cec cdm\n"
     ]
    }
   ],
   "source": [
    "#Trazendo os caracteres pulando de 2 em 2\n",
    "print(frase[::2])"
   ]
  },
  {
   "cell_type": "code",
   "execution_count": 8,
   "metadata": {},
   "outputs": [
    {
     "name": "stdout",
     "output_type": "stream",
     "text": [
      "ymedacA ecneicS ataD\n"
     ]
    }
   ],
   "source": [
    "#Trazendo os caracteres de trás para frente \n",
    "print(frase[::-1])"
   ]
  },
  {
   "cell_type": "markdown",
   "metadata": {},
   "source": [
    "Podemos usar o símbulo de multiplicação para criar uma repetição de caracteres."
   ]
  },
  {
   "cell_type": "code",
   "execution_count": 9,
   "metadata": {},
   "outputs": [
    {
     "name": "stdout",
     "output_type": "stream",
     "text": [
      "www\n"
     ]
    }
   ],
   "source": [
    "letra = 'w'\n",
    "\n",
    "print(letra * 3)"
   ]
  },
  {
   "cell_type": "markdown",
   "metadata": {},
   "source": [
    "## Funções Built-in de String"
   ]
  },
  {
   "cell_type": "markdown",
   "metadata": {},
   "source": [
    "* upper() - Usamos para deixar todos os caracteres em Maiúsculo.\n",
    "* lower() - Usamos para deixar todos os caracteres em Minúsculo.\n",
    "* split() - Usamos para separar a string de acordo com o parâmetro passado."
   ]
  },
  {
   "cell_type": "code",
   "execution_count": 11,
   "metadata": {},
   "outputs": [
    {
     "name": "stdout",
     "output_type": "stream",
     "text": [
      "['isa', 'corsi']\n"
     ]
    }
   ],
   "source": [
    "nome = 'isa-corsi'\n",
    "\n",
    "print(nome.split('-'))"
   ]
  },
  {
   "cell_type": "markdown",
   "metadata": {},
   "source": [
    "* capitalize() - Usamos quando queremos deixar apenas a primeira letra da string Maiúscula.\n",
    "* count() - Usamos quando queremos contar quantas vezes determinado elemento esta presente na string.\n",
    "* isalnum() - Quando queremos saber se a string é toda de número.\n",
    "* islower() - Quando queremos perguntar se essa string é toda Minúscula.\n",
    "* endswith() - Essa string termina com tal letra?"
   ]
  }
 ],
 "metadata": {
  "kernelspec": {
   "display_name": "Python 3",
   "language": "python",
   "name": "python3"
  },
  "language_info": {
   "codemirror_mode": {
    "name": "ipython",
    "version": 3
   },
   "file_extension": ".py",
   "mimetype": "text/x-python",
   "name": "python",
   "nbconvert_exporter": "python",
   "pygments_lexer": "ipython3",
   "version": "3.11.2"
  }
 },
 "nbformat": 4,
 "nbformat_minor": 2
}
