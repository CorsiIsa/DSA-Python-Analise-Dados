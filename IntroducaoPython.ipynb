{
 "cells": [
  {
   "cell_type": "markdown",
   "metadata": {},
   "source": [
    "# Introdução á Linguagem de programação Python"
   ]
  },
  {
   "cell_type": "markdown",
   "metadata": {},
   "source": [
    "## Operações Aritméticas\n",
    "\n",
    "* Soma (+)\n",
    "* Subtração (-)\n",
    "* Multiplicação (*)\n",
    "* Divisão (/)\n",
    "* Potência (**) ou podemos usar a função pow(numéro que queremos elevar, potência)\n",
    "* Resto da divisão (%)\n"
   ]
  },
  {
   "cell_type": "code",
   "execution_count": 6,
   "metadata": {},
   "outputs": [
    {
     "name": "stdout",
     "output_type": "stream",
     "text": [
      "125\n"
     ]
    }
   ],
   "source": [
    "print(pow(5,3))"
   ]
  },
  {
   "cell_type": "markdown",
   "metadata": {},
   "source": [
    "Quando usamos apenas uma / na divisão independente se for entre números inteiros, o resultado será sempre um float, porém se você utilizar duas / na hora da operação, o resultado se transforma em um int."
   ]
  },
  {
   "cell_type": "code",
   "execution_count": 2,
   "metadata": {},
   "outputs": [
    {
     "name": "stdout",
     "output_type": "stream",
     "text": [
      "2.0\n",
      "2\n",
      "1.0\n"
     ]
    }
   ],
   "source": [
    "print(4/2)\n",
    "\n",
    "print(4//2)\n",
    "\n",
    "print(4//3.0)"
   ]
  },
  {
   "cell_type": "markdown",
   "metadata": {},
   "source": [
    "Caso precisamos converter algum número para Hexadecimal ou Binário, podemos usar a função hex() e a bin()"
   ]
  },
  {
   "cell_type": "code",
   "execution_count": 3,
   "metadata": {},
   "outputs": [
    {
     "name": "stdout",
     "output_type": "stream",
     "text": [
      "0x18a\n",
      "0b110000110\n"
     ]
    }
   ],
   "source": [
    "print(hex(394))\n",
    "\n",
    "print(bin(390))"
   ]
  },
  {
   "cell_type": "markdown",
   "metadata": {},
   "source": [
    "No Python temos a função Abs() que pega o valor absoluto do número"
   ]
  },
  {
   "cell_type": "code",
   "execution_count": 4,
   "metadata": {},
   "outputs": [
    {
     "name": "stdout",
     "output_type": "stream",
     "text": [
      "8\n"
     ]
    }
   ],
   "source": [
    "print(abs(-8))"
   ]
  },
  {
   "cell_type": "markdown",
   "metadata": {},
   "source": [
    "E temos a função round(), que é responsável por arredondar nosso número, para quantas casas decimais quisermos "
   ]
  },
  {
   "cell_type": "code",
   "execution_count": 5,
   "metadata": {},
   "outputs": [
    {
     "name": "stdout",
     "output_type": "stream",
     "text": [
      "3.14\n"
     ]
    }
   ],
   "source": [
    "print(round(3.14151922, 2))"
   ]
  },
  {
   "cell_type": "markdown",
   "metadata": {},
   "source": [
    "## Imprimindo uma string"
   ]
  },
  {
   "cell_type": "markdown",
   "metadata": {},
   "source": [
    "para pularmos a linha podemos usar o \\n"
   ]
  },
  {
   "cell_type": "code",
   "execution_count": 1,
   "metadata": {},
   "outputs": [
    {
     "name": "stdout",
     "output_type": "stream",
     "text": [
      "Testando \n",
      "String \n",
      "em \n",
      "Python\n"
     ]
    }
   ],
   "source": [
    "print(\"Testando \\nString \\nem \\nPython\")"
   ]
  },
  {
   "cell_type": "markdown",
   "metadata": {},
   "source": [
    "## Indexando String"
   ]
  },
  {
   "cell_type": "code",
   "execution_count": 3,
   "metadata": {},
   "outputs": [
    {
     "name": "stdout",
     "output_type": "stream",
     "text": [
      "Data Science Academy\n",
      "D\n"
     ]
    }
   ],
   "source": [
    "frase = 'Data Science Academy'\n",
    "\n",
    "print(frase)\n",
    "\n",
    "print(frase[0])"
   ]
  },
  {
   "cell_type": "markdown",
   "metadata": {},
   "source": [
    "Usamos o : para buscar o intervalo entre a nossa string"
   ]
  },
  {
   "cell_type": "code",
   "execution_count": null,
   "metadata": {},
   "outputs": [
    {
     "name": "stdout",
     "output_type": "stream",
     "text": [
      "ata Science Academy\n"
     ]
    }
   ],
   "source": [
    "#Quero tudo a partir do indice 1\n",
    "print(frase[1:])"
   ]
  },
  {
   "cell_type": "markdown",
   "metadata": {},
   "source": [
    "Quando colocamos antes do : anotamos o índice inicial, porém quando colocamos depois anotamos o índice final"
   ]
  },
  {
   "cell_type": "code",
   "execution_count": 5,
   "metadata": {},
   "outputs": [
    {
     "name": "stdout",
     "output_type": "stream",
     "text": [
      "Dat\n"
     ]
    }
   ],
   "source": [
    "print(frase[:3])"
   ]
  },
  {
   "cell_type": "markdown",
   "metadata": {},
   "source": [
    "E podemos usar o -1, para trazer a frase de trás para frente "
   ]
  },
  {
   "cell_type": "code",
   "execution_count": null,
   "metadata": {},
   "outputs": [
    {
     "name": "stdout",
     "output_type": "stream",
     "text": [
      "y\n"
     ]
    }
   ],
   "source": [
    "#Trazendo o último caracter de trás para frente\n",
    "print(frase[-1])"
   ]
  },
  {
   "cell_type": "markdown",
   "metadata": {},
   "source": [
    "Podemos usar a anotação de índice para fatiar nossa string em pedaços específicos."
   ]
  },
  {
   "cell_type": "code",
   "execution_count": 7,
   "metadata": {},
   "outputs": [
    {
     "name": "stdout",
     "output_type": "stream",
     "text": [
      "Dt cec cdm\n"
     ]
    }
   ],
   "source": [
    "#Trazendo os caracteres pulando de 2 em 2\n",
    "print(frase[::2])"
   ]
  },
  {
   "cell_type": "code",
   "execution_count": 8,
   "metadata": {},
   "outputs": [
    {
     "name": "stdout",
     "output_type": "stream",
     "text": [
      "ymedacA ecneicS ataD\n"
     ]
    }
   ],
   "source": [
    "#Trazendo os caracteres de trás para frente \n",
    "print(frase[::-1])"
   ]
  },
  {
   "cell_type": "markdown",
   "metadata": {},
   "source": [
    "Podemos usar o símbulo de multiplicação para criar uma repetição de caracteres."
   ]
  },
  {
   "cell_type": "code",
   "execution_count": 9,
   "metadata": {},
   "outputs": [
    {
     "name": "stdout",
     "output_type": "stream",
     "text": [
      "www\n"
     ]
    }
   ],
   "source": [
    "letra = 'w'\n",
    "\n",
    "print(letra * 3)"
   ]
  },
  {
   "cell_type": "markdown",
   "metadata": {},
   "source": [
    "## Funções Built-in de String"
   ]
  },
  {
   "cell_type": "markdown",
   "metadata": {},
   "source": [
    "* upper() - Usamos para deixar todos os caracteres em Maiúsculo.\n",
    "* lower() - Usamos para deixar todos os caracteres em Minúsculo.\n",
    "* split() - Usamos para separar a string de acordo com o parâmetro passado."
   ]
  },
  {
   "cell_type": "code",
   "execution_count": 11,
   "metadata": {},
   "outputs": [
    {
     "name": "stdout",
     "output_type": "stream",
     "text": [
      "['isa', 'corsi']\n"
     ]
    }
   ],
   "source": [
    "nome = 'isa-corsi'\n",
    "\n",
    "print(nome.split('-'))"
   ]
  },
  {
   "cell_type": "markdown",
   "metadata": {},
   "source": [
    "* capitalize() - Usamos quando queremos deixar apenas a primeira letra da string Maiúscula.\n",
    "* count() - Usamos quando queremos contar quantas vezes determinado elemento esta presente na string.\n",
    "* isalnum() - Quando queremos saber se a string é toda de número.\n",
    "* islower() - Quando queremos perguntar se essa string é toda Minúscula.\n",
    "* endswith() - Essa string termina com tal letra?"
   ]
  },
  {
   "cell_type": "markdown",
   "metadata": {},
   "source": [
    "## Listas"
   ]
  },
  {
   "cell_type": "markdown",
   "metadata": {},
   "source": [
    "Para sabemos que o tipo do dado é uma lista, elas sempre estão em [ ]."
   ]
  },
  {
   "cell_type": "code",
   "execution_count": 13,
   "metadata": {},
   "outputs": [
    {
     "name": "stdout",
     "output_type": "stream",
     "text": [
      "Frango Tomate\n"
     ]
    }
   ],
   "source": [
    "#Uma lista com string\n",
    "lista1 = ['Arroz, frango, tomate, leite']\n",
    "\n",
    "type(lista1)\n",
    "\n",
    "#Uma lista de string\n",
    "lista2 = ['Arroz', 'Frango', 'Tomate', 'Leite']\n",
    "\n",
    "#Atribuindo cada item da lista em uma variável\n",
    "item1 = lista2[1]\n",
    "item2 = lista2[2]\n",
    "\n",
    "print(item1, item2)"
   ]
  },
  {
   "cell_type": "markdown",
   "metadata": {},
   "source": [
    "Temos a possibilidade de alterar um valor da lista, seguindo os seguintes passos:"
   ]
  },
  {
   "cell_type": "code",
   "execution_count": 14,
   "metadata": {},
   "outputs": [
    {
     "name": "stdout",
     "output_type": "stream",
     "text": [
      "['Arroz', 'Frango', 'Tomate', 'Leite']\n",
      "['Arroz', 'Frango', 'Chocolate', 'Leite']\n"
     ]
    }
   ],
   "source": [
    "#imprimindo a lista\n",
    "print(lista2)\n",
    "\n",
    "#Substituindo o item da lista\n",
    "lista2[2] = 'Chocolate'\n",
    "\n",
    "print(lista2)"
   ]
  },
  {
   "cell_type": "markdown",
   "metadata": {},
   "source": [
    "Apagando um item da lista, usando a palavra reservada 'del'."
   ]
  },
  {
   "cell_type": "code",
   "execution_count": 21,
   "metadata": {},
   "outputs": [
    {
     "name": "stdout",
     "output_type": "stream",
     "text": [
      "['Arroz', 'Chocolate']\n"
     ]
    }
   ],
   "source": [
    "del lista2[1]\n",
    "\n",
    "print(lista2)"
   ]
  },
  {
   "cell_type": "markdown",
   "metadata": {},
   "source": [
    "Lista dentro de lista"
   ]
  },
  {
   "cell_type": "code",
   "execution_count": 5,
   "metadata": {},
   "outputs": [
    {
     "name": "stdout",
     "output_type": "stream",
     "text": [
      "[[1, 2, 3], [10, 5, 6], [10.3, 5.0, 3.2]]\n",
      "1\n",
      "13\n"
     ]
    }
   ],
   "source": [
    "listaLista = [[1,2,3],[10,5,6],[10.3, 5.0, 3.2]]\n",
    "\n",
    "print(listaLista)\n",
    "\n",
    "#Fatiando a lista\n",
    "#Traduzindo: pega a primeira lista, e logo depois o primeiro valor da primeira lista\n",
    "a = listaLista[0][0]\n",
    "\n",
    "print(a)\n",
    "\n",
    "#Temos como fatiar a lista e logo que pegar o elemento realizar uma operação\n",
    "soma = listaLista[0][2] + 10\n",
    "\n",
    "print(soma)"
   ]
  },
  {
   "cell_type": "markdown",
   "metadata": {},
   "source": [
    "Conseguimos concatenar diferentes listas em uma só:"
   ]
  },
  {
   "cell_type": "code",
   "execution_count": 6,
   "metadata": {},
   "outputs": [
    {
     "name": "stdout",
     "output_type": "stream",
     "text": [
      "[9, 10, 8, 5.1, 6.0, 7.8]\n"
     ]
    }
   ],
   "source": [
    "listaA = [9,10,8]\n",
    "listaB = [5.1,6.0,7.8]\n",
    "\n",
    "listaTotal = listaA + listaB\n",
    "\n",
    "print(listaTotal)"
   ]
  },
  {
   "cell_type": "markdown",
   "metadata": {},
   "source": [
    "Podemos verificar se um determinado valor esta dentro da lista, usando o operador in"
   ]
  },
  {
   "cell_type": "code",
   "execution_count": 10,
   "metadata": {},
   "outputs": [
    {
     "name": "stdout",
     "output_type": "stream",
     "text": [
      "True\n",
      "False\n",
      "O número 10 esta presente na lista\n"
     ]
    }
   ],
   "source": [
    "numeros= [10, 5, 6, 9]\n",
    "\n",
    "print(10 in numeros)\n",
    "\n",
    "print(60 in numeros)\n",
    "\n",
    "if(10 in numeros):\n",
    "    print('O número 10 esta presente na lista')"
   ]
  },
  {
   "cell_type": "markdown",
   "metadata": {},
   "source": [
    "## Funções Built-in com Listas"
   ]
  },
  {
   "cell_type": "markdown",
   "metadata": {},
   "source": [
    "* len() - Usamos para saber qual o tamanho da lista.\n",
    "* max() - Usamos para pegar o valor máximo da lista.\n",
    "* min() - Usamos para pegar o valor mínimo da lista.\n",
    "* append() - Usamos para add um valor no último índice da lista.\n",
    "* extend([]) - Usamos quando queremos add mais de um valor a lista.\n",
    "* index() - Usamos quando queremos saber qual o índice de um determinado valor.\n",
    "* insert() - Usamos quando queremos add um valor em um determinado índice."
   ]
  },
  {
   "cell_type": "code",
   "execution_count": 13,
   "metadata": {},
   "outputs": [
    {
     "name": "stdout",
     "output_type": "stream",
     "text": [
      "['isa', 'mil grau']\n",
      "['isa', 'isinha', 'mil grau']\n"
     ]
    }
   ],
   "source": [
    "listaTeste = ['isa', 'mil grau']\n",
    "\n",
    "print(listaTeste)\n",
    "\n",
    "listaTeste.insert(1, 'isinha')\n",
    "\n",
    "print(listaTeste)"
   ]
  },
  {
   "cell_type": "markdown",
   "metadata": {},
   "source": [
    "* remove() - Usamos para deletar um item na lista."
   ]
  },
  {
   "cell_type": "code",
   "execution_count": 14,
   "metadata": {},
   "outputs": [
    {
     "name": "stdout",
     "output_type": "stream",
     "text": [
      "['isinha', 'mil grau']\n"
     ]
    }
   ],
   "source": [
    "listaTeste.remove('isa')\n",
    "\n",
    "print(listaTeste)"
   ]
  },
  {
   "cell_type": "markdown",
   "metadata": {},
   "source": [
    "* reverse() - Usamos para inverter a ordem de itens de uma lista.\n",
    "* sort() - Usamos para ordenar os itens de uma lista."
   ]
  },
  {
   "cell_type": "markdown",
   "metadata": {},
   "source": [
    "## Dicionários "
   ]
  },
  {
   "cell_type": "markdown",
   "metadata": {},
   "source": [
    "Conseguimos indentificar um idicionário pela característica de sempre estarem entre {}.\n",
    "Usamos o dicionário quando queremos amarrar uma informação a uma propriedade ou valor. (Muito parecido com o Array)"
   ]
  },
  {
   "cell_type": "code",
   "execution_count": 6,
   "metadata": {},
   "outputs": [
    {
     "name": "stdout",
     "output_type": "stream",
     "text": [
      "{'Pedro': 24, 'Ana': 22, 'Ronaldo': 26, 'Janaina': 25}\n",
      "24\n",
      "{'Pedro': 24, 'Ana': 22, 'Ronaldo': 26, 'Janaina': 25, 'Marcelo': 23}\n",
      "23\n"
     ]
    }
   ],
   "source": [
    "estudantes = {'Pedro': 24, 'Ana': 22, 'Ronaldo': 26, 'Janaina' : 25}\n",
    "\n",
    "print(estudantes)\n",
    "\n",
    "print(estudantes['Pedro'])\n",
    "\n",
    "#Criando mais uma prop no dicionário\n",
    "estudantes['Marcelo'] = 23\n",
    "\n",
    "print(estudantes)\n",
    "\n",
    "print(estudantes['Marcelo'])"
   ]
  },
  {
   "cell_type": "markdown",
   "metadata": {},
   "source": [
    "Para apagarmos os dados de um dicionário, usamos os método clear(), porém quando queremos deletar definitivamente um dicionário usamos a palavra reservada del."
   ]
  },
  {
   "cell_type": "code",
   "execution_count": 7,
   "metadata": {},
   "outputs": [
    {
     "name": "stdout",
     "output_type": "stream",
     "text": [
      "{}\n"
     ]
    }
   ],
   "source": [
    "estudantes.clear()\n",
    "\n",
    "print(estudantes)\n",
    "\n",
    "del estudantes\n"
   ]
  },
  {
   "cell_type": "code",
   "execution_count": 8,
   "metadata": {},
   "outputs": [
    {
     "ename": "NameError",
     "evalue": "name 'estudantes' is not defined",
     "output_type": "error",
     "traceback": [
      "\u001b[1;31m---------------------------------------------------------------------------\u001b[0m",
      "\u001b[1;31mNameError\u001b[0m                                 Traceback (most recent call last)",
      "Cell \u001b[1;32mIn[8], line 1\u001b[0m\n\u001b[1;32m----> 1\u001b[0m \u001b[38;5;28mprint\u001b[39m(\u001b[43mestudantes\u001b[49m)\n",
      "\u001b[1;31mNameError\u001b[0m: name 'estudantes' is not defined"
     ]
    }
   ],
   "source": [
    "print(estudantes)"
   ]
  },
  {
   "cell_type": "markdown",
   "metadata": {},
   "source": [
    "usamos o método keys() quando queremos retornar todas as chaves presentes no nosso dicionário. E para visualizarmos os valores, usamos o método values()."
   ]
  },
  {
   "cell_type": "code",
   "execution_count": 11,
   "metadata": {},
   "outputs": [
    {
     "name": "stdout",
     "output_type": "stream",
     "text": [
      "dict_keys(['Pedro', 'Ana', 'Ronaldo', 'Janaina'])\n",
      "dict_values([24, 22, 26, 25])\n",
      "dict_items([('Pedro', 24), ('Ana', 22), ('Ronaldo', 26), ('Janaina', 25)])\n"
     ]
    }
   ],
   "source": [
    "estudantes = {'Pedro': 24, 'Ana': 22, 'Ronaldo': 26, 'Janaina' : 25}\n",
    "\n",
    "print(estudantes.keys())\n",
    "\n",
    "print(estudantes.values())\n",
    "\n",
    "print(estudantes.items())"
   ]
  },
  {
   "cell_type": "markdown",
   "metadata": {},
   "source": [
    "Podemos fazer a junção de dois dicionários com o método update()."
   ]
  },
  {
   "cell_type": "code",
   "execution_count": 12,
   "metadata": {},
   "outputs": [
    {
     "name": "stdout",
     "output_type": "stream",
     "text": [
      "{'Pedro': 24, 'Ana': 22, 'Ronaldo': 26, 'Janaina': 25, 'Isa': 20, 'Carol': 29}\n"
     ]
    }
   ],
   "source": [
    "estudantes2 = {'Isa': 20, 'Carol': 29}\n",
    "\n",
    "estudantes.update(estudantes2)\n",
    "\n",
    "print(estudantes)"
   ]
  },
  {
   "cell_type": "markdown",
   "metadata": {},
   "source": [
    "## Tuplas"
   ]
  },
  {
   "cell_type": "markdown",
   "metadata": {},
   "source": [
    "Podemos indentificar as tuplas por meio da característica de sempre estar com (). (Em análise de dados é o elemento do Python menos usado.)"
   ]
  },
  {
   "cell_type": "code",
   "execution_count": 13,
   "metadata": {},
   "outputs": [
    {
     "name": "stdout",
     "output_type": "stream",
     "text": [
      "('Geografia', 23, 'Elefante', 9.8, 'Python')\n"
     ]
    }
   ],
   "source": [
    "tupla = ('Geografia', 23, 'Elefante', 9.8, 'Python')\n",
    "\n",
    "print(tupla)"
   ]
  },
  {
   "cell_type": "markdown",
   "metadata": {},
   "source": [
    "A tupla é uma estrutura que não permite alterações."
   ]
  },
  {
   "cell_type": "markdown",
   "metadata": {},
   "source": [
    "## Laço de repetição for"
   ]
  },
  {
   "cell_type": "markdown",
   "metadata": {},
   "source": [
    "Percorrendo uma matriz e vendo qual número é maior "
   ]
  },
  {
   "cell_type": "code",
   "execution_count": 1,
   "metadata": {},
   "outputs": [
    {
     "name": "stdout",
     "output_type": "stream",
     "text": [
      "Maior número:  215\n"
     ]
    }
   ],
   "source": [
    "matriz = [[42,23,34],[100,215,114],[10.1,98.7,12.3]]\n",
    "maior_numero = 0\n",
    "\n",
    "#Percorrendo cada linha da matriz \n",
    "for linha in matriz:\n",
    "    #Percorrendo cada elemento da linha \n",
    "    for item in linha:\n",
    "        if item > maior_numero:\n",
    "            maior_numero = item\n",
    "\n",
    "print('Maior número: ', maior_numero)"
   ]
  },
  {
   "cell_type": "markdown",
   "metadata": {},
   "source": [
    "Percorrendo os valores de um dicionário"
   ]
  },
  {
   "cell_type": "code",
   "execution_count": 3,
   "metadata": {},
   "outputs": [
    {
     "name": "stdout",
     "output_type": "stream",
     "text": [
      "k1 Python\n",
      "k2 R\n",
      "k3 Scala\n"
     ]
    }
   ],
   "source": [
    "dict = {'k1': 'Python', 'k2': 'R', 'k3': 'Scala'}\n",
    "\n",
    "for k,v in dict.items():\n",
    "    print(k,v)"
   ]
  },
  {
   "cell_type": "markdown",
   "metadata": {},
   "source": [
    "o método items() retorna chave e valor, por isso declaramos duas variáveis, a k para receber a chave, e o v para receber o valor."
   ]
  },
  {
   "cell_type": "markdown",
   "metadata": {},
   "source": [
    "## Funções"
   ]
  },
  {
   "cell_type": "markdown",
   "metadata": {},
   "source": [
    "Quando não sabemos o números de argumentos que iremos receber em uma função, podemos utilizar o '*vartuple'."
   ]
  },
  {
   "cell_type": "code",
   "execution_count": 1,
   "metadata": {},
   "outputs": [],
   "source": [
    "def printVarInfo(arg1, *vartuple):\n",
    "    print('O parâmetro passado foi: ', arg1)\n",
    "\n",
    "    for item in vartuple:\n",
    "        print('O parâmtro passado foi: ', item)"
   ]
  },
  {
   "cell_type": "code",
   "execution_count": 2,
   "metadata": {},
   "outputs": [
    {
     "name": "stdout",
     "output_type": "stream",
     "text": [
      "O parâmetro passado foi:  10\n"
     ]
    }
   ],
   "source": [
    "printVarInfo(10)"
   ]
  },
  {
   "cell_type": "code",
   "execution_count": 3,
   "metadata": {},
   "outputs": [
    {
     "name": "stdout",
     "output_type": "stream",
     "text": [
      "O parâmetro passado foi:  Chocolate\n",
      "O parâmtro passado foi:  Morango\n"
     ]
    }
   ],
   "source": [
    "printVarInfo('Chocolate', 'Morango')"
   ]
  },
  {
   "cell_type": "code",
   "execution_count": 4,
   "metadata": {},
   "outputs": [
    {
     "name": "stdout",
     "output_type": "stream",
     "text": [
      "O parâmetro passado foi:  Data\n",
      "O parâmtro passado foi:  Science\n",
      "O parâmtro passado foi:  Academy\n"
     ]
    }
   ],
   "source": [
    "printVarInfo('Data', 'Science', 'Academy')"
   ]
  },
  {
   "cell_type": "markdown",
   "metadata": {},
   "source": [
    "## Criando funções usando outras funções"
   ]
  },
  {
   "cell_type": "markdown",
   "metadata": {},
   "source": [
    "Podemos utilizar diversos pacotes em python, e para conseguirmos visualizar sua documentação ou a disponibilidade dele, podemos acessar o site *pypi.org*"
   ]
  },
  {
   "cell_type": "markdown",
   "metadata": {},
   "source": [
    "Nesse exemplo usaremos o pacote math, pois usaremos o método sqrt para acharmos a raiz quadrada."
   ]
  },
  {
   "cell_type": "code",
   "execution_count": 6,
   "metadata": {},
   "outputs": [],
   "source": [
    "import math\n",
    "\n",
    "def numPrimo(num):\n",
    "    if(num%2) == 0 and num>2:\n",
    "        return 'Este número não é primo'\n",
    "    for i in range(3,int(math.sqrt(num))+ 1, 2):\n",
    "        if(num% i) == 0:\n",
    "            return 'Este número não é primo'\n",
    "        \n",
    "    return 'Este número é primo'"
   ]
  },
  {
   "cell_type": "code",
   "execution_count": 7,
   "metadata": {},
   "outputs": [
    {
     "data": {
      "text/plain": [
       "'Este número é primo'"
      ]
     },
     "execution_count": 7,
     "metadata": {},
     "output_type": "execute_result"
    }
   ],
   "source": [
    "numPrimo(541)"
   ]
  },
  {
   "cell_type": "markdown",
   "metadata": {},
   "source": [
    "## Funções Lambda"
   ]
  },
  {
   "cell_type": "markdown",
   "metadata": {},
   "source": [
    "No python temos a possibilidade de criar funções anônimas, utilizando a palavra reservada Lambda."
   ]
  },
  {
   "cell_type": "code",
   "execution_count": 10,
   "metadata": {},
   "outputs": [
    {
     "data": {
      "text/plain": [
       "25"
      ]
     },
     "execution_count": 10,
     "metadata": {},
     "output_type": "execute_result"
    }
   ],
   "source": [
    "potencia = lambda num: num ** 2\n",
    "\n",
    "potencia(5)"
   ]
  },
  {
   "cell_type": "markdown",
   "metadata": {},
   "source": [
    "## Dict Comprehension"
   ]
  },
  {
   "cell_type": "markdown",
   "metadata": {},
   "source": [
    "Podemos criar um dicionário já com uma condição, o que torna o código mais simples."
   ]
  },
  {
   "cell_type": "code",
   "execution_count": 12,
   "metadata": {},
   "outputs": [
    {
     "name": "stdout",
     "output_type": "stream",
     "text": [
      "{'Bob': 'Reprovado', 'Michael': 'Apreovado', 'Ana': 'Apreovado'}\n"
     ]
    }
   ],
   "source": [
    "dict_alunos = {'Bob' : 68, 'Michael': 84, 'Ana': 93}\n",
    "\n",
    "dict_alunos_status = {k: ('Apreovado' if v> 70 else 'Reprovado') for(k,v) in dict_alunos.items()}\n",
    "\n",
    "print(dict_alunos_status)"
   ]
  }
 ],
 "metadata": {
  "kernelspec": {
   "display_name": "Python 3",
   "language": "python",
   "name": "python3"
  },
  "language_info": {
   "codemirror_mode": {
    "name": "ipython",
    "version": 3
   },
   "file_extension": ".py",
   "mimetype": "text/x-python",
   "name": "python",
   "nbconvert_exporter": "python",
   "pygments_lexer": "ipython3",
   "version": "3.11.2"
  }
 },
 "nbformat": 4,
 "nbformat_minor": 2
}
